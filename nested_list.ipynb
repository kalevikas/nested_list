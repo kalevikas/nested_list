{
 "cells": [
  {
   "cell_type": "raw",
   "id": "a3ac84b1",
   "metadata": {},
   "source": [
    "Given the names and grades for each student in a class of N students, store them in a nested list and print the name(s) of any student(s) having the second lowest grade.\n",
    "\n",
    "Note: If there are multiple students with the second lowest grade, order their names alphabetically and print each name on a new line."
   ]
  },
  {
   "cell_type": "raw",
   "id": "dcf47be2",
   "metadata": {},
   "source": [
    "There are 5 students in this class whose names and grades are assembled to build the following list:\n",
    "\n",
    "python students = [['Harry', 37.21], ['Berry', 37.21], ['Tina', 37.2], ['Akriti', 41], ['Harsh', 39]]\n",
    "\n",
    "The lowest grade of 37.2 belongs to Tina. The second lowest grade of 37.21 belongs to both Harry and Berry, so we order their names alphabetically and print each name on a new line."
   ]
  },
  {
   "cell_type": "code",
   "execution_count": 6,
   "id": "97df088f",
   "metadata": {},
   "outputs": [
    {
     "name": "stdout",
     "output_type": "stream",
     "text": [
      "5\n",
      "Harry\n",
      "37.21\n",
      "Berry\n",
      "37.21\n",
      "Tina\n",
      "37.2\n",
      "Akriti\n",
      "41\n",
      "Harsh\n",
      "39\n",
      "[['Harry', 37.21], ['Berry', 37.21], ['Tina', 37.2], ['Akriti', 41.0], ['Harsh', 39.0]]\n",
      "[37.21, 37.21, 37.2, 41.0, 39.0]\n",
      "[37.2, 37.21, 39.0, 41.0]\n",
      "['Harry', 'Berry']\n",
      "['Berry', 'Harry']\n",
      "Berry\n",
      "Harry\n"
     ]
    }
   ],
   "source": [
    "n=int(input())\n",
    "res=[]\n",
    "grades=[]\n",
    "\n",
    "for i in range(n):\n",
    "    names=input()\n",
    "    marks=float(input())\n",
    "    res.append([names,marks])\n",
    "    grades.append(marks)\n",
    "\n",
    "print(res)\n",
    "print(grades)\n",
    "\n",
    "grades=sorted(set(grades))\n",
    "print(grades)\n",
    "m=grades[1]\n",
    "name=[]\n",
    "for val in res:\n",
    "    if m==val[1]:\n",
    "        name.append(val[0])\n",
    "print(name)\n",
    "name.sort()\n",
    "print(name)\n",
    "\n",
    "for nm in name:\n",
    "    print(nm)\n",
    "    \n",
    "#     5\n",
    "# Harry\n",
    "# 37.21\n",
    "# Berry\n",
    "# 37.21\n",
    "# Tina\n",
    "# 37.2\n",
    "# Akriti\n",
    "# 41\n",
    "# Harsh\n",
    "# 39"
   ]
  },
  {
   "cell_type": "code",
   "execution_count": null,
   "id": "32c4bd59",
   "metadata": {},
   "outputs": [],
   "source": []
  }
 ],
 "metadata": {
  "kernelspec": {
   "display_name": "Python 3",
   "language": "python",
   "name": "python3"
  },
  "language_info": {
   "codemirror_mode": {
    "name": "ipython",
    "version": 3
   },
   "file_extension": ".py",
   "mimetype": "text/x-python",
   "name": "python",
   "nbconvert_exporter": "python",
   "pygments_lexer": "ipython3",
   "version": "3.8.8"
  }
 },
 "nbformat": 4,
 "nbformat_minor": 5
}
